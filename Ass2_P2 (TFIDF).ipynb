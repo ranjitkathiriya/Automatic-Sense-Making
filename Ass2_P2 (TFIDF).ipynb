{
 "cells": [
  {
   "cell_type": "code",
   "execution_count": 3,
   "metadata": {},
   "outputs": [
    {
     "name": "stderr",
     "output_type": "stream",
     "text": [
      "[nltk_data] Downloading package stopwords to\n",
      "[nltk_data]     /Users/ranjitsmac/nltk_data...\n",
      "[nltk_data]   Package stopwords is already up-to-date!\n"
     ]
    }
   ],
   "source": [
    "# Name: Kathiriya Ranjit (R00183586)\n",
    "import numpy as np\n",
    "import pandas as pd\n",
    "\n",
    "import nltk\n",
    "from nltk.corpus import stopwords\n",
    "from textblob import Word\n",
    "import re\n",
    "nltk.download('stopwords')\n",
    "stop = stopwords.words('english')"
   ]
  },
  {
   "cell_type": "markdown",
   "metadata": {},
   "source": [
    "    1.    Load Dataset:\n",
    "\n",
    "    a.    Load dataset:\n",
    "        i.    In subtaskA_data_all.csv, contain 10,000 entries with column name id,falsesent,optionA, optionB, and OptionC.\n",
    "        ii.    In subtaskA_answers_all.csv, contain 10,000 entries with column name id and sent0 of the sentence, which the option is true either in A,B,C.\n",
    "    "
   ]
  },
  {
   "cell_type": "code",
   "execution_count": 4,
   "metadata": {},
   "outputs": [],
   "source": [
    "df_all = pd.read_csv('./TrainingData/subtaskB_data_all.csv')"
   ]
  },
  {
   "cell_type": "code",
   "execution_count": 5,
   "metadata": {},
   "outputs": [
    {
     "data": {
      "text/html": [
       "<div>\n",
       "<style scoped>\n",
       "    .dataframe tbody tr th:only-of-type {\n",
       "        vertical-align: middle;\n",
       "    }\n",
       "\n",
       "    .dataframe tbody tr th {\n",
       "        vertical-align: top;\n",
       "    }\n",
       "\n",
       "    .dataframe thead th {\n",
       "        text-align: right;\n",
       "    }\n",
       "</style>\n",
       "<table border=\"1\" class=\"dataframe\">\n",
       "  <thead>\n",
       "    <tr style=\"text-align: right;\">\n",
       "      <th></th>\n",
       "      <th>id</th>\n",
       "      <th>FalseSent</th>\n",
       "      <th>OptionA</th>\n",
       "      <th>OptionB</th>\n",
       "      <th>OptionC</th>\n",
       "    </tr>\n",
       "  </thead>\n",
       "  <tbody>\n",
       "    <tr>\n",
       "      <th>0</th>\n",
       "      <td>0</td>\n",
       "      <td>He poured orange juice on his cereal.</td>\n",
       "      <td>Orange juice is usually bright orange.</td>\n",
       "      <td>Orange juice doesn't taste good on cereal.</td>\n",
       "      <td>Orange juice is sticky if you spill it on the ...</td>\n",
       "    </tr>\n",
       "    <tr>\n",
       "      <th>1</th>\n",
       "      <td>1</td>\n",
       "      <td>He drinks apple.</td>\n",
       "      <td>Apple juice are very tasty and milk too</td>\n",
       "      <td>Apple can not be drunk</td>\n",
       "      <td>Apple cannot eat a human</td>\n",
       "    </tr>\n",
       "    <tr>\n",
       "      <th>2</th>\n",
       "      <td>2</td>\n",
       "      <td>Jeff ran 100,000 miles today</td>\n",
       "      <td>100,000 miles is way to long for one person to...</td>\n",
       "      <td>Jeff is a four letter name and 100,000 has six...</td>\n",
       "      <td>100,000 miles is longer than 100,000 km.</td>\n",
       "    </tr>\n",
       "    <tr>\n",
       "      <th>3</th>\n",
       "      <td>3</td>\n",
       "      <td>I sting a mosquito</td>\n",
       "      <td>A human is a mammal</td>\n",
       "      <td>A human is omnivorous</td>\n",
       "      <td>A human has not stings</td>\n",
       "    </tr>\n",
       "    <tr>\n",
       "      <th>4</th>\n",
       "      <td>4</td>\n",
       "      <td>A giraffe is a person.</td>\n",
       "      <td>Giraffes can drink water from a lake.</td>\n",
       "      <td>A giraffe is not a human being.</td>\n",
       "      <td>.Giraffes usually eat leaves.</td>\n",
       "    </tr>\n",
       "  </tbody>\n",
       "</table>\n",
       "</div>"
      ],
      "text/plain": [
       "   id                              FalseSent  \\\n",
       "0   0  He poured orange juice on his cereal.   \n",
       "1   1                       He drinks apple.   \n",
       "2   2           Jeff ran 100,000 miles today   \n",
       "3   3                     I sting a mosquito   \n",
       "4   4                 A giraffe is a person.   \n",
       "\n",
       "                                             OptionA  \\\n",
       "0             Orange juice is usually bright orange.   \n",
       "1            Apple juice are very tasty and milk too   \n",
       "2  100,000 miles is way to long for one person to...   \n",
       "3                                A human is a mammal   \n",
       "4              Giraffes can drink water from a lake.   \n",
       "\n",
       "                                             OptionB  \\\n",
       "0         Orange juice doesn't taste good on cereal.   \n",
       "1                             Apple can not be drunk   \n",
       "2  Jeff is a four letter name and 100,000 has six...   \n",
       "3                              A human is omnivorous   \n",
       "4                    A giraffe is not a human being.   \n",
       "\n",
       "                                             OptionC  \n",
       "0  Orange juice is sticky if you spill it on the ...  \n",
       "1                           Apple cannot eat a human  \n",
       "2           100,000 miles is longer than 100,000 km.  \n",
       "3                             A human has not stings  \n",
       "4                      .Giraffes usually eat leaves.  "
      ]
     },
     "execution_count": 5,
     "metadata": {},
     "output_type": "execute_result"
    }
   ],
   "source": [
    "df_all.head()"
   ]
  },
  {
   "cell_type": "code",
   "execution_count": 6,
   "metadata": {},
   "outputs": [],
   "source": [
    "df_lables = pd.read_csv('./TrainingData/subtaskB_answers_all.csv',header='infer',names=['id','sen0_lbl'])"
   ]
  },
  {
   "cell_type": "code",
   "execution_count": 7,
   "metadata": {},
   "outputs": [
    {
     "data": {
      "text/html": [
       "<div>\n",
       "<style scoped>\n",
       "    .dataframe tbody tr th:only-of-type {\n",
       "        vertical-align: middle;\n",
       "    }\n",
       "\n",
       "    .dataframe tbody tr th {\n",
       "        vertical-align: top;\n",
       "    }\n",
       "\n",
       "    .dataframe thead th {\n",
       "        text-align: right;\n",
       "    }\n",
       "</style>\n",
       "<table border=\"1\" class=\"dataframe\">\n",
       "  <thead>\n",
       "    <tr style=\"text-align: right;\">\n",
       "      <th></th>\n",
       "      <th>id</th>\n",
       "      <th>sen0_lbl</th>\n",
       "    </tr>\n",
       "  </thead>\n",
       "  <tbody>\n",
       "    <tr>\n",
       "      <th>0</th>\n",
       "      <td>0</td>\n",
       "      <td>B</td>\n",
       "    </tr>\n",
       "    <tr>\n",
       "      <th>1</th>\n",
       "      <td>1</td>\n",
       "      <td>B</td>\n",
       "    </tr>\n",
       "    <tr>\n",
       "      <th>2</th>\n",
       "      <td>2</td>\n",
       "      <td>A</td>\n",
       "    </tr>\n",
       "    <tr>\n",
       "      <th>3</th>\n",
       "      <td>3</td>\n",
       "      <td>C</td>\n",
       "    </tr>\n",
       "    <tr>\n",
       "      <th>4</th>\n",
       "      <td>4</td>\n",
       "      <td>B</td>\n",
       "    </tr>\n",
       "  </tbody>\n",
       "</table>\n",
       "</div>"
      ],
      "text/plain": [
       "   id sen0_lbl\n",
       "0   0        B\n",
       "1   1        B\n",
       "2   2        A\n",
       "3   3        C\n",
       "4   4        B"
      ]
     },
     "execution_count": 7,
     "metadata": {},
     "output_type": "execute_result"
    }
   ],
   "source": [
    "df_lables.head()"
   ]
  },
  {
   "cell_type": "code",
   "execution_count": 49,
   "metadata": {},
   "outputs": [],
   "source": [
    "# Merge dataset withrespect to id.\n",
    "df = pd.merge(df_all,df_lables, on='id')"
   ]
  },
  {
   "cell_type": "code",
   "execution_count": 50,
   "metadata": {},
   "outputs": [],
   "source": [
    "# Drop falsesent\n",
    "df.drop('FalseSent',axis=1,inplace=True)"
   ]
  },
  {
   "cell_type": "code",
   "execution_count": 51,
   "metadata": {},
   "outputs": [
    {
     "data": {
      "text/html": [
       "<div>\n",
       "<style scoped>\n",
       "    .dataframe tbody tr th:only-of-type {\n",
       "        vertical-align: middle;\n",
       "    }\n",
       "\n",
       "    .dataframe tbody tr th {\n",
       "        vertical-align: top;\n",
       "    }\n",
       "\n",
       "    .dataframe thead th {\n",
       "        text-align: right;\n",
       "    }\n",
       "</style>\n",
       "<table border=\"1\" class=\"dataframe\">\n",
       "  <thead>\n",
       "    <tr style=\"text-align: right;\">\n",
       "      <th></th>\n",
       "      <th>id</th>\n",
       "      <th>OptionA</th>\n",
       "      <th>OptionB</th>\n",
       "      <th>OptionC</th>\n",
       "      <th>sen0_lbl</th>\n",
       "    </tr>\n",
       "  </thead>\n",
       "  <tbody>\n",
       "    <tr>\n",
       "      <th>0</th>\n",
       "      <td>0</td>\n",
       "      <td>Orange juice is usually bright orange.</td>\n",
       "      <td>Orange juice doesn't taste good on cereal.</td>\n",
       "      <td>Orange juice is sticky if you spill it on the ...</td>\n",
       "      <td>B</td>\n",
       "    </tr>\n",
       "  </tbody>\n",
       "</table>\n",
       "</div>"
      ],
      "text/plain": [
       "   id                                 OptionA  \\\n",
       "0   0  Orange juice is usually bright orange.   \n",
       "\n",
       "                                      OptionB  \\\n",
       "0  Orange juice doesn't taste good on cereal.   \n",
       "\n",
       "                                             OptionC sen0_lbl  \n",
       "0  Orange juice is sticky if you spill it on the ...        B  "
      ]
     },
     "execution_count": 51,
     "metadata": {},
     "output_type": "execute_result"
    }
   ],
   "source": [
    "df.head(1)"
   ]
  },
  {
   "cell_type": "code",
   "execution_count": 52,
   "metadata": {},
   "outputs": [],
   "source": [
    "# provide numbering for lables for eg. A=1,B=2, and C=3\n",
    "df['sen0_lbl'] = df[\"sen0_lbl\"].apply(lambda x: 1 if x=='A' else (2 if x=='B' else 3))"
   ]
  },
  {
   "cell_type": "code",
   "execution_count": 53,
   "metadata": {},
   "outputs": [
    {
     "data": {
      "text/html": [
       "<div>\n",
       "<style scoped>\n",
       "    .dataframe tbody tr th:only-of-type {\n",
       "        vertical-align: middle;\n",
       "    }\n",
       "\n",
       "    .dataframe tbody tr th {\n",
       "        vertical-align: top;\n",
       "    }\n",
       "\n",
       "    .dataframe thead th {\n",
       "        text-align: right;\n",
       "    }\n",
       "</style>\n",
       "<table border=\"1\" class=\"dataframe\">\n",
       "  <thead>\n",
       "    <tr style=\"text-align: right;\">\n",
       "      <th></th>\n",
       "      <th>id</th>\n",
       "      <th>OptionA</th>\n",
       "      <th>OptionB</th>\n",
       "      <th>OptionC</th>\n",
       "      <th>sen0_lbl</th>\n",
       "    </tr>\n",
       "  </thead>\n",
       "  <tbody>\n",
       "    <tr>\n",
       "      <th>0</th>\n",
       "      <td>0</td>\n",
       "      <td>Orange juice is usually bright orange.</td>\n",
       "      <td>Orange juice doesn't taste good on cereal.</td>\n",
       "      <td>Orange juice is sticky if you spill it on the ...</td>\n",
       "      <td>2</td>\n",
       "    </tr>\n",
       "  </tbody>\n",
       "</table>\n",
       "</div>"
      ],
      "text/plain": [
       "   id                                 OptionA  \\\n",
       "0   0  Orange juice is usually bright orange.   \n",
       "\n",
       "                                      OptionB  \\\n",
       "0  Orange juice doesn't taste good on cereal.   \n",
       "\n",
       "                                             OptionC  sen0_lbl  \n",
       "0  Orange juice is sticky if you spill it on the ...         2  "
      ]
     },
     "execution_count": 53,
     "metadata": {},
     "output_type": "execute_result"
    }
   ],
   "source": [
    "df.head(1)"
   ]
  },
  {
   "cell_type": "code",
   "execution_count": 54,
   "metadata": {},
   "outputs": [],
   "source": [
    "# Create 3 columns names lblA,lblB, and lblC and asssign 0 in all. \n",
    "df['lblA'] = 0\n",
    "df['lblB'] = 0\n",
    "df['lblC'] = 0"
   ]
  },
  {
   "cell_type": "code",
   "execution_count": 57,
   "metadata": {},
   "outputs": [],
   "source": [
    "# Assign values into lblA,lblB, and lblC from sen0_lbl, if it is true then 1 or else 0\n",
    "df['lblA'] = df[\"sen0_lbl\"].apply(lambda x: 1 if x== 1 else 0)\n",
    "df['lblB'] = df[\"sen0_lbl\"].apply(lambda x: 1 if x== 2 else 0)\n",
    "df['lblC'] = df[\"sen0_lbl\"].apply(lambda x: 1 if x== 3 else 0)"
   ]
  },
  {
   "cell_type": "code",
   "execution_count": 59,
   "metadata": {},
   "outputs": [],
   "source": [
    "# drop sen0_lbl because we have sepreated this data into lblA,lblB, and lblC\n",
    "df.drop('sen0_lbl',axis=1,inplace=True)"
   ]
  },
  {
   "cell_type": "code",
   "execution_count": 62,
   "metadata": {},
   "outputs": [
    {
     "name": "stdout",
     "output_type": "stream",
     "text": [
      "<class 'pandas.core.frame.DataFrame'>\n",
      "Int64Index: 10000 entries, 0 to 9999\n",
      "Data columns (total 7 columns):\n",
      "id         10000 non-null int64\n",
      "OptionA    10000 non-null object\n",
      "OptionB    10000 non-null object\n",
      "OptionC    9997 non-null object\n",
      "lblA       10000 non-null int64\n",
      "lblB       10000 non-null int64\n",
      "lblC       10000 non-null int64\n",
      "dtypes: int64(4), object(3)\n",
      "memory usage: 625.0+ KB\n"
     ]
    }
   ],
   "source": [
    "df.info()"
   ]
  },
  {
   "cell_type": "code",
   "execution_count": 63,
   "metadata": {},
   "outputs": [],
   "source": [
    "# as we found that null value is present in optionC, so removing that perticular rows from dataset.\n",
    "df['OptionC'].replace('', np.nan, inplace=True)\n",
    "\n",
    "df.dropna(subset=['OptionC'],inplace=True)"
   ]
  },
  {
   "cell_type": "code",
   "execution_count": 65,
   "metadata": {},
   "outputs": [
    {
     "data": {
      "text/html": [
       "<div>\n",
       "<style scoped>\n",
       "    .dataframe tbody tr th:only-of-type {\n",
       "        vertical-align: middle;\n",
       "    }\n",
       "\n",
       "    .dataframe tbody tr th {\n",
       "        vertical-align: top;\n",
       "    }\n",
       "\n",
       "    .dataframe thead th {\n",
       "        text-align: right;\n",
       "    }\n",
       "</style>\n",
       "<table border=\"1\" class=\"dataframe\">\n",
       "  <thead>\n",
       "    <tr style=\"text-align: right;\">\n",
       "      <th></th>\n",
       "      <th>id</th>\n",
       "      <th>OptionA</th>\n",
       "      <th>OptionB</th>\n",
       "      <th>OptionC</th>\n",
       "      <th>lblA</th>\n",
       "      <th>lblB</th>\n",
       "      <th>lblC</th>\n",
       "    </tr>\n",
       "  </thead>\n",
       "  <tbody>\n",
       "    <tr>\n",
       "      <th>0</th>\n",
       "      <td>0</td>\n",
       "      <td>Orange juice is usually bright orange.</td>\n",
       "      <td>Orange juice doesn't taste good on cereal.</td>\n",
       "      <td>Orange juice is sticky if you spill it on the ...</td>\n",
       "      <td>0</td>\n",
       "      <td>1</td>\n",
       "      <td>0</td>\n",
       "    </tr>\n",
       "    <tr>\n",
       "      <th>1</th>\n",
       "      <td>1</td>\n",
       "      <td>Apple juice are very tasty and milk too</td>\n",
       "      <td>Apple can not be drunk</td>\n",
       "      <td>Apple cannot eat a human</td>\n",
       "      <td>0</td>\n",
       "      <td>1</td>\n",
       "      <td>0</td>\n",
       "    </tr>\n",
       "    <tr>\n",
       "      <th>2</th>\n",
       "      <td>2</td>\n",
       "      <td>100,000 miles is way to long for one person to...</td>\n",
       "      <td>Jeff is a four letter name and 100,000 has six...</td>\n",
       "      <td>100,000 miles is longer than 100,000 km.</td>\n",
       "      <td>1</td>\n",
       "      <td>0</td>\n",
       "      <td>0</td>\n",
       "    </tr>\n",
       "    <tr>\n",
       "      <th>3</th>\n",
       "      <td>3</td>\n",
       "      <td>A human is a mammal</td>\n",
       "      <td>A human is omnivorous</td>\n",
       "      <td>A human has not stings</td>\n",
       "      <td>0</td>\n",
       "      <td>0</td>\n",
       "      <td>1</td>\n",
       "    </tr>\n",
       "    <tr>\n",
       "      <th>4</th>\n",
       "      <td>4</td>\n",
       "      <td>Giraffes can drink water from a lake.</td>\n",
       "      <td>A giraffe is not a human being.</td>\n",
       "      <td>.Giraffes usually eat leaves.</td>\n",
       "      <td>0</td>\n",
       "      <td>1</td>\n",
       "      <td>0</td>\n",
       "    </tr>\n",
       "  </tbody>\n",
       "</table>\n",
       "</div>"
      ],
      "text/plain": [
       "   id                                            OptionA  \\\n",
       "0   0             Orange juice is usually bright orange.   \n",
       "1   1            Apple juice are very tasty and milk too   \n",
       "2   2  100,000 miles is way to long for one person to...   \n",
       "3   3                                A human is a mammal   \n",
       "4   4              Giraffes can drink water from a lake.   \n",
       "\n",
       "                                             OptionB  \\\n",
       "0         Orange juice doesn't taste good on cereal.   \n",
       "1                             Apple can not be drunk   \n",
       "2  Jeff is a four letter name and 100,000 has six...   \n",
       "3                              A human is omnivorous   \n",
       "4                    A giraffe is not a human being.   \n",
       "\n",
       "                                             OptionC  lblA  lblB  lblC  \n",
       "0  Orange juice is sticky if you spill it on the ...     0     1     0  \n",
       "1                           Apple cannot eat a human     0     1     0  \n",
       "2           100,000 miles is longer than 100,000 km.     1     0     0  \n",
       "3                             A human has not stings     0     0     1  \n",
       "4                      .Giraffes usually eat leaves.     0     1     0  "
      ]
     },
     "execution_count": 65,
     "metadata": {},
     "output_type": "execute_result"
    }
   ],
   "source": [
    "df.head()"
   ]
  },
  {
   "cell_type": "code",
   "execution_count": 66,
   "metadata": {},
   "outputs": [],
   "source": [
    "# creating three dataframe for more accuracy.\n",
    "df1 = df[['OptionA','lblA']]\n",
    "df2 = df[['OptionB','lblB']]\n",
    "df3 = df[['OptionC','lblC']]"
   ]
  },
  {
   "cell_type": "code",
   "execution_count": 67,
   "metadata": {},
   "outputs": [],
   "source": [
    "# same names for three cols for easy concate.\n",
    "df1 = df1.rename(columns = {\"OptionA\": \"sent\", \n",
    "                                  \"lblA\":\"label\"})\n",
    "df2 = df2.rename(columns = {\"OptionB\": \"sent\", \n",
    "                                  \"lblB\":\"label\"})\n",
    "df3 = df3.rename(columns = {\"OptionC\": \"sent\", \n",
    "                                  \"lblC\":\"label\"})"
   ]
  },
  {
   "cell_type": "code",
   "execution_count": 68,
   "metadata": {},
   "outputs": [],
   "source": [
    "# concate the three dataframes so we can get total 29991 entries.\n",
    "df = pd.concat([df1, df2, df3], ignore_index=True,axis=0,sort=True)"
   ]
  },
  {
   "cell_type": "code",
   "execution_count": 70,
   "metadata": {},
   "outputs": [
    {
     "name": "stdout",
     "output_type": "stream",
     "text": [
      "<class 'pandas.core.frame.DataFrame'>\n",
      "RangeIndex: 29991 entries, 0 to 29990\n",
      "Data columns (total 2 columns):\n",
      "label    29991 non-null int64\n",
      "sent     29991 non-null object\n",
      "dtypes: int64(1), object(1)\n",
      "memory usage: 468.7+ KB\n"
     ]
    }
   ],
   "source": [
    "df.info()"
   ]
  },
  {
   "cell_type": "markdown",
   "metadata": {},
   "source": [
    "# Cleaning"
   ]
  },
  {
   "cell_type": "markdown",
   "metadata": {},
   "source": [
    "    2.    Cleaning\n",
    "\n",
    "        a.    Lower Case: Converting all 29,991 entries into lowercase.\n",
    "        b.    Removing extra character: In this, the additional symbol like ?.'; is removed.\n",
    "        c.    Stop words Removing: stop words like a the, and a terminated from the corpus.\n",
    "        d.    Lemmatization: converting the text into the plural form. e.g., mice become a mouse.\n",
    "        e.    Eliminating the repetitions: the word which occurs twice or more times it removes."
   ]
  },
  {
   "cell_type": "code",
   "execution_count": 72,
   "metadata": {},
   "outputs": [],
   "source": [
    "# lower case\n",
    "df['sent'] = df['sent'].apply(lambda x: \" \".join(x.lower() for x in x.split()))\n",
    "\n",
    "# Removing extra symbol.\n",
    "df['sent'] = df['sent'].str.replace('[^\\w\\s]',' ')\n",
    "\n",
    "# removing stopwords like the, a, an\n",
    "df['sent'] = df['sent'].apply(lambda x: \" \".join(x for x in x.split() if x not in stop))\n",
    "df.head(1)\n",
    "\n",
    "# Pural form through lemmatization eg. mice becomes mouse.\n",
    "df['sent'] = df['sent'].apply(lambda x: \" \".join([Word(word).lemmatize() for word in x.split()]))\n",
    "df.head(1)\n",
    "\n",
    "# correcting latter and repeatations.\n",
    "def de_repeat(text):\n",
    "    pattern = re.compile(r\"(.)\\1{2,}\")\n",
    "    return pattern.sub(r\"\\1\\1\",text)\n",
    "df['sent'] = df['sent'].apply(lambda x: \" \".join(de_repeat(x) for x in x.split())) "
   ]
  },
  {
   "cell_type": "markdown",
   "metadata": {},
   "source": [
    "# 3. TRAIN TEST SPLIT"
   ]
  },
  {
   "cell_type": "markdown",
   "metadata": {},
   "source": [
    "    3.    Train test split \n",
    "\n",
    "        a.    train-test-split: In train test split function, the dataset divided into two parts 1 with 70% of dataset and another with 30% of data. Further evaluated using three classification model.\n",
    "        b.    For further evaluation, the dataset present in the test folder is taken and evaluated using three classification model."
   ]
  },
  {
   "cell_type": "code",
   "execution_count": 73,
   "metadata": {},
   "outputs": [],
   "source": [
    "from sklearn.model_selection import train_test_split"
   ]
  },
  {
   "cell_type": "code",
   "execution_count": 74,
   "metadata": {},
   "outputs": [],
   "source": [
    "X = df['sent']\n",
    "y = df['label']"
   ]
  },
  {
   "cell_type": "code",
   "execution_count": 75,
   "metadata": {},
   "outputs": [],
   "source": [
    "X_train, X_test, y_train, y_test = train_test_split(X, y, test_size=0.3, random_state=42)"
   ]
  },
  {
   "cell_type": "markdown",
   "metadata": {},
   "source": [
    "# 4. Model Selection"
   ]
  },
  {
   "cell_type": "markdown",
   "metadata": {},
   "source": [
    "    4.    Feature Extraction\n",
    "\n",
    "        •    Machine Algorithms cannot take text data; instead, we need to perform feature extraction from text data for passing the text into a machine learning algorithm.   \n",
    "\n",
    "        a.    Count Vectorization: It converts the raw text into DTM (Document term matrix) in this; each word occurrence counted.\n",
    "        b.    TFIDF-Transformation: It transforms the count of count vectorization into frequency. Instead of 4.a and 4.b, we can use TFIDF-Vectorization for similar operations with one function.\n",
    "        c.    TFIDF-Vectorization: It is just inverse of count vectorization; instead of filling DTM(Document term matrix) with word count, it calculates the inverse document frequency value for each word. Inverse document frequency is measured common or rare in a given corpus.\n",
    "    \n",
    "    4. Apply 3 Classification Model. \n",
    "        a.    Naive Bayes Classifier\n",
    "            i.    Naive Bayes is a classification algorithm based on the principle of Bayes' Theorem.\n",
    "            •    works with any numbers of class\n",
    "            •    Simple to implement\n",
    "\n",
    "        b.    K-nearest Neighbour\n",
    "            i.    It is a classification algorithm that operates on basic principal.\n",
    "            •    Simple to implement\n",
    "            •    works with any numbers of class\n",
    "            •    easy to add more data\n",
    "\n",
    "        c.    Support Vector Machine (SVM)\n",
    "            i.    It analysed data and recognizer patterns through classification or regression techniques.\n",
    "            •    SVM can handle non-linear data using the bit trick.\n",
    "            •    SVM can be used to solve both classification and regression problems."
   ]
  },
  {
   "cell_type": "code",
   "execution_count": 77,
   "metadata": {},
   "outputs": [],
   "source": [
    "from sklearn.pipeline import Pipeline\n",
    "from sklearn.feature_extraction.text import TfidfVectorizer\n",
    "from sklearn.svm import SVC\n",
    "from sklearn.naive_bayes import MultinomialNB\n",
    "from sklearn.neighbors import KNeighborsClassifier\n",
    "\n",
    "from sklearn.metrics import classification_report,confusion_matrix,accuracy_score"
   ]
  },
  {
   "cell_type": "code",
   "execution_count": 78,
   "metadata": {},
   "outputs": [
    {
     "name": "stdout",
     "output_type": "stream",
     "text": [
      "              precision    recall  f1-score   support\n",
      "\n",
      "           0       0.69      0.95      0.80      5949\n",
      "           1       0.64      0.18      0.28      3049\n",
      "\n",
      "    accuracy                           0.69      8998\n",
      "   macro avg       0.67      0.56      0.54      8998\n",
      "weighted avg       0.68      0.69      0.63      8998\n",
      "\n",
      "Confusion Matrix = \n",
      " [[5637  312]\n",
      " [2495  554]]\n",
      "accuracy =  0.6880417870637919\n"
     ]
    }
   ],
   "source": [
    "# 4.1 Naive Bayes Classifier\n",
    "text_nb = Pipeline([('tfidf',TfidfVectorizer(max_features=1000,analyzer='word',ngram_range=(1,2))),\n",
    "                   ('clf',MultinomialNB())])\n",
    "\n",
    "text_nb.fit(X_train,y_train)\n",
    "\n",
    "prediction = text_nb.predict(X_test)\n",
    "\n",
    "print(classification_report(y_test,prediction))\n",
    "\n",
    "print(\"Confusion Matrix = \\n\",confusion_matrix(y_test,prediction))\n",
    "\n",
    "print(\"accuracy = \",accuracy_score(y_test,prediction))"
   ]
  },
  {
   "cell_type": "code",
   "execution_count": 79,
   "metadata": {},
   "outputs": [
    {
     "name": "stdout",
     "output_type": "stream",
     "text": [
      "              precision    recall  f1-score   support\n",
      "\n",
      "           0       0.66      1.00      0.80      5949\n",
      "           1       0.61      0.01      0.02      3049\n",
      "\n",
      "    accuracy                           0.66      8998\n",
      "   macro avg       0.64      0.50      0.41      8998\n",
      "weighted avg       0.64      0.66      0.53      8998\n",
      "\n",
      "Confusion Matrix = \n",
      " [[5931   18]\n",
      " [3021   28]]\n",
      "accuracy =  0.6622582796176928\n"
     ]
    }
   ],
   "source": [
    "# 4.2 K-nearest Neighbor\n",
    "text_knn = Pipeline([('tfidf',TfidfVectorizer(max_features=1000,analyzer='word',ngram_range=(1,3))),\n",
    "                   ('clf',KNeighborsClassifier(n_neighbors=101))])\n",
    "\n",
    "text_knn.fit(X_train,y_train)\n",
    "\n",
    "prediction = text_knn.predict(X_test)\n",
    "\n",
    "print(classification_report(y_test,prediction))\n",
    "\n",
    "print(\"Confusion Matrix = \\n\",confusion_matrix(y_test,prediction))\n",
    "\n",
    "print(\"accuracy = \",accuracy_score(y_test,prediction))"
   ]
  },
  {
   "cell_type": "code",
   "execution_count": 80,
   "metadata": {},
   "outputs": [
    {
     "name": "stdout",
     "output_type": "stream",
     "text": [
      "              precision    recall  f1-score   support\n",
      "\n",
      "           0       0.66      1.00      0.80      5949\n",
      "           1       0.00      0.00      0.00      3049\n",
      "\n",
      "    accuracy                           0.66      8998\n",
      "   macro avg       0.33      0.50      0.40      8998\n",
      "weighted avg       0.44      0.66      0.53      8998\n",
      "\n",
      "Confusion Matrix = \n",
      " [[5949    0]\n",
      " [3049    0]]\n",
      "accuracy =  0.6611469215381196\n"
     ]
    },
    {
     "name": "stderr",
     "output_type": "stream",
     "text": [
      "/Users/ranjitsmac/anaconda3/lib/python3.7/site-packages/sklearn/metrics/classification.py:1437: UndefinedMetricWarning: Precision and F-score are ill-defined and being set to 0.0 in labels with no predicted samples.\n",
      "  'precision', 'predicted', average, warn_for)\n"
     ]
    }
   ],
   "source": [
    "# 4.3 Support Vector Machine (SVM)\n",
    "text_cf = Pipeline([('tfidf',TfidfVectorizer(max_features=1000,analyzer='word',ngram_range=(1,3))),\n",
    "                   ('clf',SVC(gamma='auto'))])\n",
    "\n",
    "text_cf.fit(X_train,y_train)\n",
    "\n",
    "prediction = text_cf.predict(X_test)\n",
    "\n",
    "print(classification_report(y_test,prediction))\n",
    "\n",
    "print(\"Confusion Matrix = \\n\",confusion_matrix(y_test,prediction))\n",
    "\n",
    "print(\"accuracy = \",accuracy_score(y_test,prediction))"
   ]
  },
  {
   "cell_type": "markdown",
   "metadata": {},
   "source": [
    "# END"
   ]
  }
 ],
 "metadata": {
  "kernelspec": {
   "display_name": "Python 3",
   "language": "python",
   "name": "python3"
  },
  "language_info": {
   "codemirror_mode": {
    "name": "ipython",
    "version": 3
   },
   "file_extension": ".py",
   "mimetype": "text/x-python",
   "name": "python",
   "nbconvert_exporter": "python",
   "pygments_lexer": "ipython3",
   "version": "3.7.3"
  }
 },
 "nbformat": 4,
 "nbformat_minor": 2
}
