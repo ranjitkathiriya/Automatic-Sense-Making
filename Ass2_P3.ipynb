{
 "cells": [
  {
   "cell_type": "code",
   "execution_count": 2,
   "metadata": {},
   "outputs": [
    {
     "name": "stderr",
     "output_type": "stream",
     "text": [
      "[nltk_data] Downloading package stopwords to\n",
      "[nltk_data]     /Users/ranjitsmac/nltk_data...\n",
      "[nltk_data]   Package stopwords is already up-to-date!\n"
     ]
    }
   ],
   "source": [
    "#Name: Kathiriya Ranjit (R00183586)\n",
    "# https://github.com/jsvine/markovify - Install for runnning\n",
    "import markovify\n",
    "import numpy as np\n",
    "import pandas as pd\n",
    "\n",
    "import nltk\n",
    "from nltk.corpus import stopwords\n",
    "from textblob import Word\n",
    "import re\n",
    "\n",
    "from spellchecker import SpellChecker\n",
    "nltk.download('stopwords')\n",
    "stop = stopwords.words('english')"
   ]
  },
  {
   "cell_type": "markdown",
   "metadata": {},
   "source": [
    "# Reading Datasets:\n"
   ]
  },
  {
   "cell_type": "code",
   "execution_count": 2,
   "metadata": {},
   "outputs": [
    {
     "data": {
      "text/html": [
       "<div>\n",
       "<style scoped>\n",
       "    .dataframe tbody tr th:only-of-type {\n",
       "        vertical-align: middle;\n",
       "    }\n",
       "\n",
       "    .dataframe tbody tr th {\n",
       "        vertical-align: top;\n",
       "    }\n",
       "\n",
       "    .dataframe thead th {\n",
       "        text-align: right;\n",
       "    }\n",
       "</style>\n",
       "<table border=\"1\" class=\"dataframe\">\n",
       "  <thead>\n",
       "    <tr style=\"text-align: right;\">\n",
       "      <th></th>\n",
       "      <th>id</th>\n",
       "      <th>posA</th>\n",
       "      <th>posB</th>\n",
       "      <th>posC</th>\n",
       "    </tr>\n",
       "  </thead>\n",
       "  <tbody>\n",
       "    <tr>\n",
       "      <th>0</th>\n",
       "      <td>0</td>\n",
       "      <td>Orange juice doesn't taste good on cereal.</td>\n",
       "      <td>Orange juice is poured in a glass.</td>\n",
       "      <td>Orange juice does not taste good on cereal.</td>\n",
       "    </tr>\n",
       "    <tr>\n",
       "      <th>1</th>\n",
       "      <td>1</td>\n",
       "      <td>Apple can not be drunk</td>\n",
       "      <td>An apple is a whole food and unable to be drun...</td>\n",
       "      <td>He eats an apple</td>\n",
       "    </tr>\n",
       "    <tr>\n",
       "      <th>2</th>\n",
       "      <td>2</td>\n",
       "      <td>100,000 miles is way to long for one person to...</td>\n",
       "      <td>This is not physically possible to achieve</td>\n",
       "      <td>No way can someone run 100,000 miles in a day</td>\n",
       "    </tr>\n",
       "    <tr>\n",
       "      <th>3</th>\n",
       "      <td>3</td>\n",
       "      <td>A human has not stings</td>\n",
       "      <td>I do not have a stinger.</td>\n",
       "      <td>mosquitos sting people, not the other way around</td>\n",
       "    </tr>\n",
       "    <tr>\n",
       "      <th>4</th>\n",
       "      <td>4</td>\n",
       "      <td>A giraffe is not a human being.</td>\n",
       "      <td>A giraffe is an animal, not human.</td>\n",
       "      <td>A giraffe is an animal.</td>\n",
       "    </tr>\n",
       "  </tbody>\n",
       "</table>\n",
       "</div>"
      ],
      "text/plain": [
       "   id                                               posA  \\\n",
       "0   0         Orange juice doesn't taste good on cereal.   \n",
       "1   1                             Apple can not be drunk   \n",
       "2   2  100,000 miles is way to long for one person to...   \n",
       "3   3                             A human has not stings   \n",
       "4   4                    A giraffe is not a human being.   \n",
       "\n",
       "                                                posB  \\\n",
       "0                 Orange juice is poured in a glass.   \n",
       "1  An apple is a whole food and unable to be drun...   \n",
       "2         This is not physically possible to achieve   \n",
       "3                           I do not have a stinger.   \n",
       "4                 A giraffe is an animal, not human.   \n",
       "\n",
       "                                               posC  \n",
       "0       Orange juice does not taste good on cereal.  \n",
       "1                                  He eats an apple  \n",
       "2     No way can someone run 100,000 miles in a day  \n",
       "3  mosquitos sting people, not the other way around  \n",
       "4                           A giraffe is an animal.  "
      ]
     },
     "execution_count": 2,
     "metadata": {},
     "output_type": "execute_result"
    }
   ],
   "source": [
    "# reading the answer datasets\n",
    "df_answer = pd.read_csv('./TrainingData/subtaskC_answers_all.csv',names=['id','posA','posB','posC'])\n",
    "df_answer.head()"
   ]
  },
  {
   "cell_type": "code",
   "execution_count": 3,
   "metadata": {},
   "outputs": [
    {
     "data": {
      "text/html": [
       "<div>\n",
       "<style scoped>\n",
       "    .dataframe tbody tr th:only-of-type {\n",
       "        vertical-align: middle;\n",
       "    }\n",
       "\n",
       "    .dataframe tbody tr th {\n",
       "        vertical-align: top;\n",
       "    }\n",
       "\n",
       "    .dataframe thead th {\n",
       "        text-align: right;\n",
       "    }\n",
       "</style>\n",
       "<table border=\"1\" class=\"dataframe\">\n",
       "  <thead>\n",
       "    <tr style=\"text-align: right;\">\n",
       "      <th></th>\n",
       "      <th>id</th>\n",
       "      <th>FalseSent</th>\n",
       "    </tr>\n",
       "  </thead>\n",
       "  <tbody>\n",
       "    <tr>\n",
       "      <th>0</th>\n",
       "      <td>0</td>\n",
       "      <td>He poured orange juice on his cereal.</td>\n",
       "    </tr>\n",
       "    <tr>\n",
       "      <th>1</th>\n",
       "      <td>1</td>\n",
       "      <td>He drinks apple.</td>\n",
       "    </tr>\n",
       "    <tr>\n",
       "      <th>2</th>\n",
       "      <td>2</td>\n",
       "      <td>Jeff ran 100,000 miles today</td>\n",
       "    </tr>\n",
       "    <tr>\n",
       "      <th>3</th>\n",
       "      <td>3</td>\n",
       "      <td>I sting a mosquito</td>\n",
       "    </tr>\n",
       "    <tr>\n",
       "      <th>4</th>\n",
       "      <td>4</td>\n",
       "      <td>A giraffe is a person.</td>\n",
       "    </tr>\n",
       "  </tbody>\n",
       "</table>\n",
       "</div>"
      ],
      "text/plain": [
       "   id                              FalseSent\n",
       "0   0  He poured orange juice on his cereal.\n",
       "1   1                       He drinks apple.\n",
       "2   2           Jeff ran 100,000 miles today\n",
       "3   3                     I sting a mosquito\n",
       "4   4                 A giraffe is a person."
      ]
     },
     "execution_count": 3,
     "metadata": {},
     "output_type": "execute_result"
    }
   ],
   "source": [
    "# reading the false sents\n",
    "df_false = pd.read_csv('./TrainingData/subtaskC_data_all.csv')\n",
    "df_false.head()"
   ]
  },
  {
   "cell_type": "code",
   "execution_count": 4,
   "metadata": {},
   "outputs": [],
   "source": [
    "# Merge both based on Id.\n",
    "df = pd.merge(df_false,df_answer,on='id')"
   ]
  },
  {
   "cell_type": "code",
   "execution_count": 5,
   "metadata": {},
   "outputs": [
    {
     "data": {
      "text/html": [
       "<div>\n",
       "<style scoped>\n",
       "    .dataframe tbody tr th:only-of-type {\n",
       "        vertical-align: middle;\n",
       "    }\n",
       "\n",
       "    .dataframe tbody tr th {\n",
       "        vertical-align: top;\n",
       "    }\n",
       "\n",
       "    .dataframe thead th {\n",
       "        text-align: right;\n",
       "    }\n",
       "</style>\n",
       "<table border=\"1\" class=\"dataframe\">\n",
       "  <thead>\n",
       "    <tr style=\"text-align: right;\">\n",
       "      <th></th>\n",
       "      <th>id</th>\n",
       "      <th>FalseSent</th>\n",
       "      <th>posA</th>\n",
       "      <th>posB</th>\n",
       "      <th>posC</th>\n",
       "    </tr>\n",
       "  </thead>\n",
       "  <tbody>\n",
       "    <tr>\n",
       "      <th>0</th>\n",
       "      <td>0</td>\n",
       "      <td>He poured orange juice on his cereal.</td>\n",
       "      <td>Orange juice doesn't taste good on cereal.</td>\n",
       "      <td>Orange juice is poured in a glass.</td>\n",
       "      <td>Orange juice does not taste good on cereal.</td>\n",
       "    </tr>\n",
       "  </tbody>\n",
       "</table>\n",
       "</div>"
      ],
      "text/plain": [
       "   id                              FalseSent  \\\n",
       "0   0  He poured orange juice on his cereal.   \n",
       "\n",
       "                                         posA  \\\n",
       "0  Orange juice doesn't taste good on cereal.   \n",
       "\n",
       "                                 posB  \\\n",
       "0  Orange juice is poured in a glass.   \n",
       "\n",
       "                                          posC  \n",
       "0  Orange juice does not taste good on cereal.  "
      ]
     },
     "execution_count": 5,
     "metadata": {},
     "output_type": "execute_result"
    }
   ],
   "source": [
    "# print first rows including cols name.\n",
    "df.head(1)"
   ]
  },
  {
   "cell_type": "code",
   "execution_count": 6,
   "metadata": {},
   "outputs": [
    {
     "name": "stdout",
     "output_type": "stream",
     "text": [
      "<class 'pandas.core.frame.DataFrame'>\n",
      "Int64Index: 10000 entries, 0 to 9999\n",
      "Data columns (total 5 columns):\n",
      "id           10000 non-null int64\n",
      "FalseSent    10000 non-null object\n",
      "posA         10000 non-null object\n",
      "posB         10000 non-null object\n",
      "posC         10000 non-null object\n",
      "dtypes: int64(1), object(4)\n",
      "memory usage: 468.8+ KB\n"
     ]
    }
   ],
   "source": [
    "# info of all cols.\n",
    "df.info()"
   ]
  },
  {
   "cell_type": "markdown",
   "metadata": {},
   "source": [
    "# Cleaning"
   ]
  },
  {
   "cell_type": "markdown",
   "metadata": {},
   "source": [
    "    2.\tCleaning\n",
    "\n",
    "        a.\tLower Case: Converting all 20,000 entries into lowercase.\n",
    "        b.\tRemoving extra character: In this, the additional symbol like ?.'; is removed.\n",
    "        c.\tStop words Removing: stop words like a the, and a terminated from the corpus.\n",
    "        d.\tLemmatization: converting the text into the plural form. e.g., mice become a mouse.\n",
    "        e.\tEliminating the repetitions: the word which occurs twice or more times it removes.\n",
    "        f. Spelling chacker correct if it is wrong. eg. fihs --> fish\n"
   ]
  },
  {
   "cell_type": "code",
   "execution_count": 157,
   "metadata": {},
   "outputs": [],
   "source": [
    "def de_repeat(text):\n",
    "    pattern = re.compile(r\"(.)\\1{2,}\")\n",
    "    return pattern.sub(r\"\\1\\1\",text)\n",
    "spell = SpellChecker()"
   ]
  },
  {
   "cell_type": "code",
   "execution_count": 160,
   "metadata": {},
   "outputs": [],
   "source": [
    "# lower case\n",
    "df['FalseSent'] = df['FalseSent'].apply(lambda x: \" \".join(x.lower() for x in x.split()))\n",
    "df['posA'] = df['posA'].apply(lambda x: \" \".join(x.lower() for x in x.split()))\n",
    "df['posB'] = df['posB'].apply(lambda x: \" \".join(x.lower() for x in x.split()))\n",
    "df['posC'] = df['posC'].apply(lambda x: \" \".join(x.lower() for x in x.split()))\n",
    "\n",
    "# Removing extra symbol.\n",
    "df['FalseSent'] = df['FalseSent'].str.replace('[^\\w\\s]',' ')\n",
    "df['posA'] = df['posA'].str.replace('[^\\w\\s]',' ')\n",
    "df['posB'] = df['posB'].str.replace('[^\\w\\s]',' ')\n",
    "df['posC'] = df['posC'].str.replace('[^\\w\\s]',' ')\n",
    "\n",
    "# removing stopwords like the, a, an\n",
    "df['FalseSent'] = df['FalseSent'].apply(lambda x: \" \".join(x for x in x.split() if x not in stop))\n",
    "df['posA'] = df['posA'].apply(lambda x: \" \".join(x for x in x.split() if x not in stop))\n",
    "df['posB'] = df['posB'].apply(lambda x: \" \".join(x for x in x.split() if x not in stop))\n",
    "df['posC'] = df['posC'].apply(lambda x: \" \".join(x for x in x.split() if x not in stop))\n",
    "\n",
    "# Pural form through lemmatization eg. mice becomes mouse.\n",
    "df['FalseSent'] = df['FalseSent'].apply(lambda x: \" \".join([Word(word).lemmatize() for word in x.split()]))\n",
    "df['posA'] = df['posA'].apply(lambda x: \" \".join([Word(word).lemmatize() for word in x.split()]))\n",
    "df['posB'] = df['posB'].apply(lambda x: \" \".join([Word(word).lemmatize() for word in x.split()]))\n",
    "df['posC'] = df['posC'].apply(lambda x: \" \".join([Word(word).lemmatize() for word in x.split()]))\n",
    "\n",
    "# correcting latter and repeatations.\n",
    "df['FalseSent'] = df['FalseSent'].apply(lambda x: \" \".join(de_repeat(x) for x in x.split())) \n",
    "df['posA'] = df['posA'].apply(lambda x: \" \".join(de_repeat(x) for x in x.split())) \n",
    "df['posB'] = df['posB'].apply(lambda x: \" \".join(de_repeat(x) for x in x.split())) \n",
    "df['posC'] = df['posC'].apply(lambda x: \" \".join(de_repeat(x) for x in x.split())) \n",
    "\n",
    "# spell check for eg. fihs --> fish\n",
    "df['FalseSent'] = df['FalseSent'].apply(lambda x: \" \".join(x for x in spell.correction(x)))\n",
    "df['posA'] = df['posA'].apply(lambda x: \" \".join(x for x in spell.correction(x)))\n",
    "df['posB'] = df['posB'].apply(lambda x: \" \".join(x for x in spell.correction(x)))\n",
    "df['posC'] = df['posC'].apply(lambda x: \" \".join(x for x in spell.correction(x)))"
   ]
  },
  {
   "cell_type": "code",
   "execution_count": 177,
   "metadata": {},
   "outputs": [
    {
     "data": {
      "text/plain": [
       "'fish'"
      ]
     },
     "execution_count": 177,
     "metadata": {},
     "output_type": "execute_result"
    }
   ],
   "source": [
    "spell.correction('fihs')"
   ]
  },
  {
   "cell_type": "markdown",
   "metadata": {},
   "source": [
    "# GENERATION OF NEW TEXT USING LIBREARY"
   ]
  },
  {
   "cell_type": "markdown",
   "metadata": {},
   "source": [
    "# Library : https://github.com/jsvine/markovify\n",
    "        \n",
    "        \n",
    "        -  The Markovify is a library based on text generation. It generates text based on the corpus or given sentences. Its documentation is well-formed, and i have tested this library. It is very accurate generates text rather than any other model. It creates text on a pre-trained deep learning model.\n",
    "        - for installing this library pip install markovify\n",
    "        - Here the text means the data set from corpus and I am also appending each falsesentences, OptionA, OptionB,and optionC for more accuracy of model. (string)\n",
    "        - state_size: indicating the number of words in the model's state. (Int)"
   ]
  },
  {
   "cell_type": "code",
   "execution_count": 235,
   "metadata": {},
   "outputs": [],
   "source": [
    "# Function for generating text\n",
    "def func_newgeneration(text):\n",
    "    text_model = markovify.Text(text,state_size=2,retain_original=False,well_formed=False)\n",
    "    for i in range(1):\n",
    "        return text_model.make_short_sentence(120)"
   ]
  },
  {
   "cell_type": "code",
   "execution_count": 236,
   "metadata": {},
   "outputs": [],
   "source": [
    "# append function it appends new sentences into corpus from dataframe and then open corpus for generating sentences based on corpus.\n",
    "def appendFile(text):\n",
    "    f=open('corpus.txt','a')\n",
    "    f.seek(0) #get to the first position\n",
    "    f.write(text)\n",
    "    with open(\"corpus.txt\") as f:\n",
    "        text_corpas = f.read()\n",
    "    "
   ]
  },
  {
   "cell_type": "code",
   "execution_count": 237,
   "metadata": {},
   "outputs": [],
   "source": [
    "#generating all sentences and then storing into the listwith i as id.\n",
    "datas = []\n",
    "    \n",
    "for i in range(df.shape[0]):\n",
    "    false_sec = df['FalseSent'][i]\n",
    "    posa = df['posA'][i]\n",
    "    posb = df['posB'][i]\n",
    "    posc = df['posC'][i]\n",
    "    final_text = false_sec + posa + posb + posc\n",
    "    \n",
    "#      #for big corpus insert text_corpas here \n",
    "#     appendFile(final_text) # \n",
    "    text = func_newgeneration(final_text)  # text_corpas for big courpus time taking.\n",
    "    datas.append((i,text))"
   ]
  },
  {
   "cell_type": "code",
   "execution_count": 238,
   "metadata": {},
   "outputs": [],
   "source": [
    "# creating dataframe named id and gen_sec as new generated sentences.\n",
    "df_newsec = pd.DataFrame(datas, columns = ['id', 'gen_sec'])"
   ]
  },
  {
   "cell_type": "code",
   "execution_count": 239,
   "metadata": {},
   "outputs": [],
   "source": [
    "# merge with respect to id into one dataframe.\n",
    "df1 = pd.merge(df,df_newsec,on='id')"
   ]
  },
  {
   "cell_type": "code",
   "execution_count": 240,
   "metadata": {},
   "outputs": [
    {
     "data": {
      "text/html": [
       "<div>\n",
       "<style scoped>\n",
       "    .dataframe tbody tr th:only-of-type {\n",
       "        vertical-align: middle;\n",
       "    }\n",
       "\n",
       "    .dataframe tbody tr th {\n",
       "        vertical-align: top;\n",
       "    }\n",
       "\n",
       "    .dataframe thead th {\n",
       "        text-align: right;\n",
       "    }\n",
       "</style>\n",
       "<table border=\"1\" class=\"dataframe\">\n",
       "  <thead>\n",
       "    <tr style=\"text-align: right;\">\n",
       "      <th></th>\n",
       "      <th>id</th>\n",
       "      <th>FalseSent</th>\n",
       "      <th>posA</th>\n",
       "      <th>posB</th>\n",
       "      <th>posC</th>\n",
       "      <th>gen_sec</th>\n",
       "    </tr>\n",
       "  </thead>\n",
       "  <tbody>\n",
       "    <tr>\n",
       "      <th>0</th>\n",
       "      <td>0</td>\n",
       "      <td>poured orange juice cereal</td>\n",
       "      <td>orange juice taste good cereal</td>\n",
       "      <td>orange juice poured glass</td>\n",
       "      <td>orange juice taste good cereal</td>\n",
       "      <td>poured orange juice cerealorange juice poured ...</td>\n",
       "    </tr>\n",
       "    <tr>\n",
       "      <th>1</th>\n",
       "      <td>1</td>\n",
       "      <td>drink apple</td>\n",
       "      <td>apple drunk</td>\n",
       "      <td>apple whole food unable drunk without juiced</td>\n",
       "      <td>eats apple</td>\n",
       "      <td>drink appleapple drunkapple whole food unable ...</td>\n",
       "    </tr>\n",
       "    <tr>\n",
       "      <th>2</th>\n",
       "      <td>2</td>\n",
       "      <td>jeff ran 100 00 mile today</td>\n",
       "      <td>100 00 mile way long one person able run one day</td>\n",
       "      <td>physically possible achieve</td>\n",
       "      <td>way someone run 100 00 mile day</td>\n",
       "      <td>jeff ran 100 00 mile way long one person able ...</td>\n",
       "    </tr>\n",
       "    <tr>\n",
       "      <th>3</th>\n",
       "      <td>3</td>\n",
       "      <td>sting mosquito</td>\n",
       "      <td>human sting</td>\n",
       "      <td>stinger</td>\n",
       "      <td>mosquito sting people way around</td>\n",
       "      <td>sting mosquitohuman stingstingermosquito sting...</td>\n",
       "    </tr>\n",
       "    <tr>\n",
       "      <th>4</th>\n",
       "      <td>4</td>\n",
       "      <td>giraffe person</td>\n",
       "      <td>giraffe human</td>\n",
       "      <td>giraffe animal human</td>\n",
       "      <td>giraffe animal</td>\n",
       "      <td>giraffe persongiraffe humangiraffe animal huma...</td>\n",
       "    </tr>\n",
       "  </tbody>\n",
       "</table>\n",
       "</div>"
      ],
      "text/plain": [
       "   id                   FalseSent  \\\n",
       "0   0  poured orange juice cereal   \n",
       "1   1                 drink apple   \n",
       "2   2  jeff ran 100 00 mile today   \n",
       "3   3              sting mosquito   \n",
       "4   4              giraffe person   \n",
       "\n",
       "                                               posA  \\\n",
       "0                    orange juice taste good cereal   \n",
       "1                                       apple drunk   \n",
       "2  100 00 mile way long one person able run one day   \n",
       "3                                       human sting   \n",
       "4                                     giraffe human   \n",
       "\n",
       "                                           posB  \\\n",
       "0                     orange juice poured glass   \n",
       "1  apple whole food unable drunk without juiced   \n",
       "2                   physically possible achieve   \n",
       "3                                       stinger   \n",
       "4                          giraffe animal human   \n",
       "\n",
       "                               posC  \\\n",
       "0    orange juice taste good cereal   \n",
       "1                        eats apple   \n",
       "2   way someone run 100 00 mile day   \n",
       "3  mosquito sting people way around   \n",
       "4                    giraffe animal   \n",
       "\n",
       "                                             gen_sec  \n",
       "0  poured orange juice cerealorange juice poured ...  \n",
       "1  drink appleapple drunkapple whole food unable ...  \n",
       "2  jeff ran 100 00 mile way long one person able ...  \n",
       "3  sting mosquitohuman stingstingermosquito sting...  \n",
       "4  giraffe persongiraffe humangiraffe animal huma...  "
      ]
     },
     "execution_count": 240,
     "metadata": {},
     "output_type": "execute_result"
    }
   ],
   "source": [
    "df1.head()"
   ]
  },
  {
   "cell_type": "markdown",
   "metadata": {},
   "source": [
    "# Training the model with Bleu Score"
   ]
  },
  {
   "cell_type": "markdown",
   "metadata": {},
   "source": [
    "    - Bilingual Evaluation Understudy is comparing a candidate with multiple or a single reference translations. Further, it also can be used for evaluation purposes. \n",
    "    - I am going to use the NLTK library to obtain a blue score. \n",
    "\n",
    "    - A perfect match result is 1.0, whereas an ideal mismatch results in a score of 0.0, or an average match, maybe 0.5 score.\n",
    "    \n",
    "    - with the halp of Bleu score we can achive this below tasks.\n",
    "            Language generation.\n",
    "            Image caption generation.\n",
    "            Text summarization.\n",
    "            Speech recognition."
   ]
  },
  {
   "cell_type": "code",
   "execution_count": 241,
   "metadata": {},
   "outputs": [],
   "source": [
    "# used Bleu Score library for obtaning the blue score.\n",
    "from nltk.translate.bleu_score import sentence_bleu"
   ]
  },
  {
   "cell_type": "code",
   "execution_count": 242,
   "metadata": {},
   "outputs": [],
   "source": [
    "df_final = df1"
   ]
  },
  {
   "cell_type": "code",
   "execution_count": 245,
   "metadata": {},
   "outputs": [],
   "source": [
    "# time taking process so, picking 10 sentences and generating Bleu score for 10 sentences 0-9 and storing data into datas list.\n",
    "datas = []\n",
    "for i in range(0,10):\n",
    "    reference = [df_final['posA'][i].split() + df_final['posB'][i].split() + df_final['posC'][i].split()]\n",
    "    candidate = df_final['gen_sec'][i].split()\n",
    "    # Seating weights means seaing n-grams for eg. (0, 1, 0, 0) means biagram as on.\n",
    "    score = sentence_bleu(reference, candidate, weights=(1, 0, 0, 0))\n",
    "    datas.append(score)"
   ]
  },
  {
   "cell_type": "code",
   "execution_count": 246,
   "metadata": {},
   "outputs": [
    {
     "data": {
      "text/plain": [
       "0.5954028136291661"
      ]
     },
     "execution_count": 246,
     "metadata": {},
     "output_type": "execute_result"
    }
   ],
   "source": [
    "# sum of all datas and divided by total number of datasets (in our case we have taken as 10).\n",
    "sum(datas) / 10"
   ]
  },
  {
   "cell_type": "markdown",
   "metadata": {},
   "source": [
    "# END"
   ]
  }
 ],
 "metadata": {
  "kernelspec": {
   "display_name": "Python 3",
   "language": "python",
   "name": "python3"
  },
  "language_info": {
   "codemirror_mode": {
    "name": "ipython",
    "version": 3
   },
   "file_extension": ".py",
   "mimetype": "text/x-python",
   "name": "python",
   "nbconvert_exporter": "python",
   "pygments_lexer": "ipython3",
   "version": "3.7.3"
  }
 },
 "nbformat": 4,
 "nbformat_minor": 2
}
