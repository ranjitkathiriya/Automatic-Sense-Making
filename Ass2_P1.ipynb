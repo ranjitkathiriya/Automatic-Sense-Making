{
 "cells": [
  {
   "cell_type": "markdown",
   "metadata": {},
   "source": [
    "Name: Kathiriya Ranjit (R00183586)\n",
    "1. Load Dataset\n",
    "2. Cleaning\n",
    "3. Train test split\n",
    "4. Apply 3 Classfication Model.\n",
    "\n",
    "    4.1 Naive Bayes Classifier\n",
    "    \n",
    "    4.2 K-nearest Neighbor\n",
    "    \n",
    "    4.3 Support Vector Machine (SVM)"
   ]
  },
  {
   "cell_type": "markdown",
   "metadata": {},
   "source": [
    "## 1. Load Dataset"
   ]
  },
  {
   "cell_type": "markdown",
   "metadata": {},
   "source": [
    "    1.\tLoad Dataset:\n",
    "\n",
    "        a.\tLoad dataset:\n",
    "            i.\tIn subtaskA_data_all.csv, contain 10,000 entries with column name id,sent0, and sent1.\n",
    "            ii.\tIn subtaskA_answers_all.csv, contain 10,000 entries with column name id and label0 of the sentence, which is true.\n",
    "        b.\tProcess data:\n",
    "            i.\tIn-process data I have just created a new column name label1 with all opposite of label0 so we can get both sentences correct label.\n",
    "            ii.\tThen after the merge of the label and other sentence is done.\n",
    "            iii.\tFor gaining more accuracy, the separation of sentences like breaking the table into two sentence0,label0, and sentence1,label1. Join this both pairs into vertically.\n",
    "            iv.\tNow, 20,000 entries we have in total.\n"
   ]
  },
  {
   "cell_type": "code",
   "execution_count": 3,
   "metadata": {},
   "outputs": [],
   "source": [
    "import numpy as np\n",
    "import pandas as pd"
   ]
  },
  {
   "cell_type": "code",
   "execution_count": 4,
   "metadata": {},
   "outputs": [],
   "source": [
    "df_all = pd.read_csv('./TrainingData/subtaskA_data_all.csv')"
   ]
  },
  {
   "cell_type": "code",
   "execution_count": 5,
   "metadata": {},
   "outputs": [
    {
     "data": {
      "text/html": [
       "<div>\n",
       "<style scoped>\n",
       "    .dataframe tbody tr th:only-of-type {\n",
       "        vertical-align: middle;\n",
       "    }\n",
       "\n",
       "    .dataframe tbody tr th {\n",
       "        vertical-align: top;\n",
       "    }\n",
       "\n",
       "    .dataframe thead th {\n",
       "        text-align: right;\n",
       "    }\n",
       "</style>\n",
       "<table border=\"1\" class=\"dataframe\">\n",
       "  <thead>\n",
       "    <tr style=\"text-align: right;\">\n",
       "      <th></th>\n",
       "      <th>id</th>\n",
       "      <th>sent0</th>\n",
       "      <th>sent1</th>\n",
       "    </tr>\n",
       "  </thead>\n",
       "  <tbody>\n",
       "    <tr>\n",
       "      <th>0</th>\n",
       "      <td>0</td>\n",
       "      <td>He poured orange juice on his cereal.</td>\n",
       "      <td>He poured milk on his cereal.</td>\n",
       "    </tr>\n",
       "  </tbody>\n",
       "</table>\n",
       "</div>"
      ],
      "text/plain": [
       "   id                                  sent0                          sent1\n",
       "0   0  He poured orange juice on his cereal.  He poured milk on his cereal."
      ]
     },
     "execution_count": 5,
     "metadata": {},
     "output_type": "execute_result"
    }
   ],
   "source": [
    "df_all.head(1)"
   ]
  },
  {
   "cell_type": "code",
   "execution_count": 6,
   "metadata": {},
   "outputs": [],
   "source": [
    "df_lables = pd.read_csv('./TrainingData/subtaskA_answers_all.csv',header='infer',names=['id_lbl','sen0_lbl'])"
   ]
  },
  {
   "cell_type": "code",
   "execution_count": 7,
   "metadata": {},
   "outputs": [
    {
     "data": {
      "text/html": [
       "<div>\n",
       "<style scoped>\n",
       "    .dataframe tbody tr th:only-of-type {\n",
       "        vertical-align: middle;\n",
       "    }\n",
       "\n",
       "    .dataframe tbody tr th {\n",
       "        vertical-align: top;\n",
       "    }\n",
       "\n",
       "    .dataframe thead th {\n",
       "        text-align: right;\n",
       "    }\n",
       "</style>\n",
       "<table border=\"1\" class=\"dataframe\">\n",
       "  <thead>\n",
       "    <tr style=\"text-align: right;\">\n",
       "      <th></th>\n",
       "      <th>id_lbl</th>\n",
       "      <th>sen0_lbl</th>\n",
       "    </tr>\n",
       "  </thead>\n",
       "  <tbody>\n",
       "    <tr>\n",
       "      <th>0</th>\n",
       "      <td>0</td>\n",
       "      <td>0</td>\n",
       "    </tr>\n",
       "  </tbody>\n",
       "</table>\n",
       "</div>"
      ],
      "text/plain": [
       "   id_lbl  sen0_lbl\n",
       "0       0         0"
      ]
     },
     "execution_count": 7,
     "metadata": {},
     "output_type": "execute_result"
    }
   ],
   "source": [
    "df_lables.head(1)"
   ]
  },
  {
   "cell_type": "code",
   "execution_count": 8,
   "metadata": {},
   "outputs": [],
   "source": [
    "df_join = pd.concat([df_all,df_lables],axis=1)"
   ]
  },
  {
   "cell_type": "code",
   "execution_count": 9,
   "metadata": {},
   "outputs": [
    {
     "data": {
      "text/html": [
       "<div>\n",
       "<style scoped>\n",
       "    .dataframe tbody tr th:only-of-type {\n",
       "        vertical-align: middle;\n",
       "    }\n",
       "\n",
       "    .dataframe tbody tr th {\n",
       "        vertical-align: top;\n",
       "    }\n",
       "\n",
       "    .dataframe thead th {\n",
       "        text-align: right;\n",
       "    }\n",
       "</style>\n",
       "<table border=\"1\" class=\"dataframe\">\n",
       "  <thead>\n",
       "    <tr style=\"text-align: right;\">\n",
       "      <th></th>\n",
       "      <th>id</th>\n",
       "      <th>sent0</th>\n",
       "      <th>sent1</th>\n",
       "      <th>id_lbl</th>\n",
       "      <th>sen0_lbl</th>\n",
       "    </tr>\n",
       "  </thead>\n",
       "  <tbody>\n",
       "    <tr>\n",
       "      <th>0</th>\n",
       "      <td>0</td>\n",
       "      <td>He poured orange juice on his cereal.</td>\n",
       "      <td>He poured milk on his cereal.</td>\n",
       "      <td>0</td>\n",
       "      <td>0</td>\n",
       "    </tr>\n",
       "  </tbody>\n",
       "</table>\n",
       "</div>"
      ],
      "text/plain": [
       "   id                                  sent0                          sent1  \\\n",
       "0   0  He poured orange juice on his cereal.  He poured milk on his cereal.   \n",
       "\n",
       "   id_lbl  sen0_lbl  \n",
       "0       0         0  "
      ]
     },
     "execution_count": 9,
     "metadata": {},
     "output_type": "execute_result"
    }
   ],
   "source": [
    "df_join.head(1)"
   ]
  },
  {
   "cell_type": "code",
   "execution_count": 10,
   "metadata": {},
   "outputs": [],
   "source": [
    "df_join.drop(['id_lbl'],axis=1,inplace=True)"
   ]
  },
  {
   "cell_type": "code",
   "execution_count": 11,
   "metadata": {},
   "outputs": [
    {
     "data": {
      "text/html": [
       "<div>\n",
       "<style scoped>\n",
       "    .dataframe tbody tr th:only-of-type {\n",
       "        vertical-align: middle;\n",
       "    }\n",
       "\n",
       "    .dataframe tbody tr th {\n",
       "        vertical-align: top;\n",
       "    }\n",
       "\n",
       "    .dataframe thead th {\n",
       "        text-align: right;\n",
       "    }\n",
       "</style>\n",
       "<table border=\"1\" class=\"dataframe\">\n",
       "  <thead>\n",
       "    <tr style=\"text-align: right;\">\n",
       "      <th></th>\n",
       "      <th>id</th>\n",
       "      <th>sent0</th>\n",
       "      <th>sent1</th>\n",
       "      <th>sen0_lbl</th>\n",
       "    </tr>\n",
       "  </thead>\n",
       "  <tbody>\n",
       "    <tr>\n",
       "      <th>0</th>\n",
       "      <td>0</td>\n",
       "      <td>He poured orange juice on his cereal.</td>\n",
       "      <td>He poured milk on his cereal.</td>\n",
       "      <td>0</td>\n",
       "    </tr>\n",
       "  </tbody>\n",
       "</table>\n",
       "</div>"
      ],
      "text/plain": [
       "   id                                  sent0                          sent1  \\\n",
       "0   0  He poured orange juice on his cereal.  He poured milk on his cereal.   \n",
       "\n",
       "   sen0_lbl  \n",
       "0         0  "
      ]
     },
     "execution_count": 11,
     "metadata": {},
     "output_type": "execute_result"
    }
   ],
   "source": [
    "df_join.head(1)"
   ]
  },
  {
   "cell_type": "code",
   "execution_count": 12,
   "metadata": {},
   "outputs": [],
   "source": [
    "df_join['sen1_lbl'] =  df_join['sen0_lbl'].apply(lambda x: int(1) if x==0 else int(0))"
   ]
  },
  {
   "cell_type": "code",
   "execution_count": 13,
   "metadata": {},
   "outputs": [
    {
     "data": {
      "text/html": [
       "<div>\n",
       "<style scoped>\n",
       "    .dataframe tbody tr th:only-of-type {\n",
       "        vertical-align: middle;\n",
       "    }\n",
       "\n",
       "    .dataframe tbody tr th {\n",
       "        vertical-align: top;\n",
       "    }\n",
       "\n",
       "    .dataframe thead th {\n",
       "        text-align: right;\n",
       "    }\n",
       "</style>\n",
       "<table border=\"1\" class=\"dataframe\">\n",
       "  <thead>\n",
       "    <tr style=\"text-align: right;\">\n",
       "      <th></th>\n",
       "      <th>id</th>\n",
       "      <th>sent0</th>\n",
       "      <th>sent1</th>\n",
       "      <th>sen0_lbl</th>\n",
       "      <th>sen1_lbl</th>\n",
       "    </tr>\n",
       "  </thead>\n",
       "  <tbody>\n",
       "    <tr>\n",
       "      <th>0</th>\n",
       "      <td>0</td>\n",
       "      <td>He poured orange juice on his cereal.</td>\n",
       "      <td>He poured milk on his cereal.</td>\n",
       "      <td>0</td>\n",
       "      <td>1</td>\n",
       "    </tr>\n",
       "  </tbody>\n",
       "</table>\n",
       "</div>"
      ],
      "text/plain": [
       "   id                                  sent0                          sent1  \\\n",
       "0   0  He poured orange juice on his cereal.  He poured milk on his cereal.   \n",
       "\n",
       "   sen0_lbl  sen1_lbl  \n",
       "0         0         1  "
      ]
     },
     "execution_count": 13,
     "metadata": {},
     "output_type": "execute_result"
    }
   ],
   "source": [
    "df_join.head(1)"
   ]
  },
  {
   "cell_type": "code",
   "execution_count": 14,
   "metadata": {},
   "outputs": [],
   "source": [
    "df1 = df_join[['sent0','sen0_lbl']]"
   ]
  },
  {
   "cell_type": "code",
   "execution_count": 15,
   "metadata": {},
   "outputs": [],
   "source": [
    "df1 = df1.rename(columns = {\"sent0\": \"sent\", \n",
    "                                  \"sen0_lbl\":\"label\"})"
   ]
  },
  {
   "cell_type": "code",
   "execution_count": 16,
   "metadata": {},
   "outputs": [
    {
     "data": {
      "text/html": [
       "<div>\n",
       "<style scoped>\n",
       "    .dataframe tbody tr th:only-of-type {\n",
       "        vertical-align: middle;\n",
       "    }\n",
       "\n",
       "    .dataframe tbody tr th {\n",
       "        vertical-align: top;\n",
       "    }\n",
       "\n",
       "    .dataframe thead th {\n",
       "        text-align: right;\n",
       "    }\n",
       "</style>\n",
       "<table border=\"1\" class=\"dataframe\">\n",
       "  <thead>\n",
       "    <tr style=\"text-align: right;\">\n",
       "      <th></th>\n",
       "      <th>sent</th>\n",
       "      <th>label</th>\n",
       "    </tr>\n",
       "  </thead>\n",
       "  <tbody>\n",
       "    <tr>\n",
       "      <th>0</th>\n",
       "      <td>He poured orange juice on his cereal.</td>\n",
       "      <td>0</td>\n",
       "    </tr>\n",
       "  </tbody>\n",
       "</table>\n",
       "</div>"
      ],
      "text/plain": [
       "                                    sent  label\n",
       "0  He poured orange juice on his cereal.      0"
      ]
     },
     "execution_count": 16,
     "metadata": {},
     "output_type": "execute_result"
    }
   ],
   "source": [
    "df1.head(1)"
   ]
  },
  {
   "cell_type": "code",
   "execution_count": 17,
   "metadata": {},
   "outputs": [],
   "source": [
    "df2 = df_join[['sent1','sen1_lbl']]\n",
    "\n",
    "df2 = df2.rename(columns = {\"sent1\": \"sent\", \n",
    "                                  \"sen1_lbl\":\"label\"})"
   ]
  },
  {
   "cell_type": "code",
   "execution_count": 18,
   "metadata": {},
   "outputs": [
    {
     "data": {
      "text/html": [
       "<div>\n",
       "<style scoped>\n",
       "    .dataframe tbody tr th:only-of-type {\n",
       "        vertical-align: middle;\n",
       "    }\n",
       "\n",
       "    .dataframe tbody tr th {\n",
       "        vertical-align: top;\n",
       "    }\n",
       "\n",
       "    .dataframe thead th {\n",
       "        text-align: right;\n",
       "    }\n",
       "</style>\n",
       "<table border=\"1\" class=\"dataframe\">\n",
       "  <thead>\n",
       "    <tr style=\"text-align: right;\">\n",
       "      <th></th>\n",
       "      <th>sent</th>\n",
       "      <th>label</th>\n",
       "    </tr>\n",
       "  </thead>\n",
       "  <tbody>\n",
       "    <tr>\n",
       "      <th>0</th>\n",
       "      <td>He poured milk on his cereal.</td>\n",
       "      <td>1</td>\n",
       "    </tr>\n",
       "  </tbody>\n",
       "</table>\n",
       "</div>"
      ],
      "text/plain": [
       "                            sent  label\n",
       "0  He poured milk on his cereal.      1"
      ]
     },
     "execution_count": 18,
     "metadata": {},
     "output_type": "execute_result"
    }
   ],
   "source": [
    "df2.head(1)"
   ]
  },
  {
   "cell_type": "code",
   "execution_count": 19,
   "metadata": {},
   "outputs": [],
   "source": [
    "df = pd.concat([df1, df2], ignore_index=True,axis=0,sort=True)"
   ]
  },
  {
   "cell_type": "code",
   "execution_count": 20,
   "metadata": {},
   "outputs": [
    {
     "name": "stdout",
     "output_type": "stream",
     "text": [
      "<class 'pandas.core.frame.DataFrame'>\n",
      "RangeIndex: 20000 entries, 0 to 19999\n",
      "Data columns (total 2 columns):\n",
      "label    20000 non-null int64\n",
      "sent     20000 non-null object\n",
      "dtypes: int64(1), object(1)\n",
      "memory usage: 312.6+ KB\n"
     ]
    }
   ],
   "source": [
    "df.info(1)"
   ]
  },
  {
   "cell_type": "markdown",
   "metadata": {},
   "source": [
    "## 2. Cleaning"
   ]
  },
  {
   "cell_type": "markdown",
   "metadata": {},
   "source": [
    "    2.\tCleaning\n",
    "\n",
    "        a.\tLower Case: Converting all 20,000 entries into lowercase.\n",
    "        b.\tRemoving extra character: In this, the additional symbol like ?.'; is removed.\n",
    "        c.\tStop words Removing: stop words like a the, and a terminated from the corpus.\n",
    "        d.\tLemmatization: converting the text into the plural form. e.g., mice become a mouse.\n",
    "        e.\tEliminating the repetitions: the word which occurs twice or more times it removes.\n",
    "        f. Spelling chacker correct if it is wrong. eg. fihs --> fish\n"
   ]
  },
  {
   "cell_type": "code",
   "execution_count": 21,
   "metadata": {},
   "outputs": [],
   "source": [
    "# lower case\n",
    "df['sent'] = df['sent'].apply(lambda x: \" \".join(x.lower() for x in x.split()))"
   ]
  },
  {
   "cell_type": "code",
   "execution_count": 22,
   "metadata": {},
   "outputs": [
    {
     "data": {
      "text/html": [
       "<div>\n",
       "<style scoped>\n",
       "    .dataframe tbody tr th:only-of-type {\n",
       "        vertical-align: middle;\n",
       "    }\n",
       "\n",
       "    .dataframe tbody tr th {\n",
       "        vertical-align: top;\n",
       "    }\n",
       "\n",
       "    .dataframe thead th {\n",
       "        text-align: right;\n",
       "    }\n",
       "</style>\n",
       "<table border=\"1\" class=\"dataframe\">\n",
       "  <thead>\n",
       "    <tr style=\"text-align: right;\">\n",
       "      <th></th>\n",
       "      <th>label</th>\n",
       "      <th>sent</th>\n",
       "    </tr>\n",
       "  </thead>\n",
       "  <tbody>\n",
       "    <tr>\n",
       "      <th>0</th>\n",
       "      <td>0</td>\n",
       "      <td>he poured orange juice on his cereal.</td>\n",
       "    </tr>\n",
       "  </tbody>\n",
       "</table>\n",
       "</div>"
      ],
      "text/plain": [
       "   label                                   sent\n",
       "0      0  he poured orange juice on his cereal."
      ]
     },
     "execution_count": 22,
     "metadata": {},
     "output_type": "execute_result"
    }
   ],
   "source": [
    "df.head(1)"
   ]
  },
  {
   "cell_type": "code",
   "execution_count": 23,
   "metadata": {},
   "outputs": [],
   "source": [
    "# Removing extra symbol.\n",
    "df['sent'] = df['sent'].str.replace('[^\\w\\s]',' ')"
   ]
  },
  {
   "cell_type": "code",
   "execution_count": 24,
   "metadata": {},
   "outputs": [
    {
     "data": {
      "text/html": [
       "<div>\n",
       "<style scoped>\n",
       "    .dataframe tbody tr th:only-of-type {\n",
       "        vertical-align: middle;\n",
       "    }\n",
       "\n",
       "    .dataframe tbody tr th {\n",
       "        vertical-align: top;\n",
       "    }\n",
       "\n",
       "    .dataframe thead th {\n",
       "        text-align: right;\n",
       "    }\n",
       "</style>\n",
       "<table border=\"1\" class=\"dataframe\">\n",
       "  <thead>\n",
       "    <tr style=\"text-align: right;\">\n",
       "      <th></th>\n",
       "      <th>label</th>\n",
       "      <th>sent</th>\n",
       "    </tr>\n",
       "  </thead>\n",
       "  <tbody>\n",
       "    <tr>\n",
       "      <th>0</th>\n",
       "      <td>0</td>\n",
       "      <td>he poured orange juice on his cereal</td>\n",
       "    </tr>\n",
       "  </tbody>\n",
       "</table>\n",
       "</div>"
      ],
      "text/plain": [
       "   label                                   sent\n",
       "0      0  he poured orange juice on his cereal "
      ]
     },
     "execution_count": 24,
     "metadata": {},
     "output_type": "execute_result"
    }
   ],
   "source": [
    "df.head(1)"
   ]
  },
  {
   "cell_type": "code",
   "execution_count": 25,
   "metadata": {},
   "outputs": [],
   "source": [
    "import nltk\n",
    "from nltk.corpus import stopwords\n",
    "from textblob import Word\n",
    "import re"
   ]
  },
  {
   "cell_type": "code",
   "execution_count": 26,
   "metadata": {},
   "outputs": [
    {
     "name": "stderr",
     "output_type": "stream",
     "text": [
      "[nltk_data] Downloading package stopwords to\n",
      "[nltk_data]     /Users/ranjitsmac/nltk_data...\n",
      "[nltk_data]   Package stopwords is already up-to-date!\n"
     ]
    },
    {
     "data": {
      "text/html": [
       "<div>\n",
       "<style scoped>\n",
       "    .dataframe tbody tr th:only-of-type {\n",
       "        vertical-align: middle;\n",
       "    }\n",
       "\n",
       "    .dataframe tbody tr th {\n",
       "        vertical-align: top;\n",
       "    }\n",
       "\n",
       "    .dataframe thead th {\n",
       "        text-align: right;\n",
       "    }\n",
       "</style>\n",
       "<table border=\"1\" class=\"dataframe\">\n",
       "  <thead>\n",
       "    <tr style=\"text-align: right;\">\n",
       "      <th></th>\n",
       "      <th>label</th>\n",
       "      <th>sent</th>\n",
       "    </tr>\n",
       "  </thead>\n",
       "  <tbody>\n",
       "    <tr>\n",
       "      <th>0</th>\n",
       "      <td>0</td>\n",
       "      <td>poured orange juice cereal</td>\n",
       "    </tr>\n",
       "  </tbody>\n",
       "</table>\n",
       "</div>"
      ],
      "text/plain": [
       "   label                        sent\n",
       "0      0  poured orange juice cereal"
      ]
     },
     "execution_count": 26,
     "metadata": {},
     "output_type": "execute_result"
    }
   ],
   "source": [
    "# removing stopwords like the, a, an\n",
    "nltk.download('stopwords')\n",
    "stop = stopwords.words('english')\n",
    "df['sent'] = df['sent'].apply(lambda x: \" \".join(x for x in x.split() if x not in stop))\n",
    "df.head(1)"
   ]
  },
  {
   "cell_type": "code",
   "execution_count": 27,
   "metadata": {},
   "outputs": [
    {
     "data": {
      "text/html": [
       "<div>\n",
       "<style scoped>\n",
       "    .dataframe tbody tr th:only-of-type {\n",
       "        vertical-align: middle;\n",
       "    }\n",
       "\n",
       "    .dataframe tbody tr th {\n",
       "        vertical-align: top;\n",
       "    }\n",
       "\n",
       "    .dataframe thead th {\n",
       "        text-align: right;\n",
       "    }\n",
       "</style>\n",
       "<table border=\"1\" class=\"dataframe\">\n",
       "  <thead>\n",
       "    <tr style=\"text-align: right;\">\n",
       "      <th></th>\n",
       "      <th>label</th>\n",
       "      <th>sent</th>\n",
       "    </tr>\n",
       "  </thead>\n",
       "  <tbody>\n",
       "    <tr>\n",
       "      <th>0</th>\n",
       "      <td>0</td>\n",
       "      <td>poured orange juice cereal</td>\n",
       "    </tr>\n",
       "  </tbody>\n",
       "</table>\n",
       "</div>"
      ],
      "text/plain": [
       "   label                        sent\n",
       "0      0  poured orange juice cereal"
      ]
     },
     "execution_count": 27,
     "metadata": {},
     "output_type": "execute_result"
    }
   ],
   "source": [
    "# Pural form through lemmatization eg. mice becomes mouse.\n",
    "df['sent'] = df['sent'].apply(lambda x: \" \".join([Word(word).lemmatize() for word in x.split()]))\n",
    "df.head(1)"
   ]
  },
  {
   "cell_type": "code",
   "execution_count": 28,
   "metadata": {},
   "outputs": [],
   "source": [
    "# correcting latter and repeatations.\n",
    "def de_repeat(text):\n",
    "    pattern = re.compile(r\"(.)\\1{2,}\")\n",
    "    return pattern.sub(r\"\\1\\1\",text)\n",
    "\n",
    "\n",
    "df['sent'] = df['sent'].apply(lambda x: \" \".join(de_repeat(x) for x in x.split())) "
   ]
  },
  {
   "cell_type": "code",
   "execution_count": 29,
   "metadata": {},
   "outputs": [
    {
     "data": {
      "text/html": [
       "<div>\n",
       "<style scoped>\n",
       "    .dataframe tbody tr th:only-of-type {\n",
       "        vertical-align: middle;\n",
       "    }\n",
       "\n",
       "    .dataframe tbody tr th {\n",
       "        vertical-align: top;\n",
       "    }\n",
       "\n",
       "    .dataframe thead th {\n",
       "        text-align: right;\n",
       "    }\n",
       "</style>\n",
       "<table border=\"1\" class=\"dataframe\">\n",
       "  <thead>\n",
       "    <tr style=\"text-align: right;\">\n",
       "      <th></th>\n",
       "      <th>label</th>\n",
       "      <th>sent</th>\n",
       "    </tr>\n",
       "  </thead>\n",
       "  <tbody>\n",
       "    <tr>\n",
       "      <th>0</th>\n",
       "      <td>0</td>\n",
       "      <td>poured orange juice cereal</td>\n",
       "    </tr>\n",
       "  </tbody>\n",
       "</table>\n",
       "</div>"
      ],
      "text/plain": [
       "   label                        sent\n",
       "0      0  poured orange juice cereal"
      ]
     },
     "execution_count": 29,
     "metadata": {},
     "output_type": "execute_result"
    }
   ],
   "source": [
    "df.head(1)"
   ]
  },
  {
   "cell_type": "code",
   "execution_count": 2,
   "metadata": {},
   "outputs": [],
   "source": [
    "from spellchecker import SpellChecker"
   ]
  },
  {
   "cell_type": "code",
   "execution_count": 3,
   "metadata": {},
   "outputs": [],
   "source": [
    "# spell check for eg. fihs --> fish\n",
    "spell = SpellChecker()"
   ]
  },
  {
   "cell_type": "code",
   "execution_count": null,
   "metadata": {},
   "outputs": [],
   "source": [
    "df['sent'] = df['sent'].apply(lambda x: \" \".join(x for x in spell.correction(x)))"
   ]
  },
  {
   "cell_type": "markdown",
   "metadata": {},
   "source": [
    "## 3. Train test split"
   ]
  },
  {
   "cell_type": "markdown",
   "metadata": {},
   "source": [
    "    3.\tTrain test split \n",
    "\n",
    "        a.\ttrain-test-split: In train test split function, the dataset divided into two parts 1 with 80% of dataset and another with 20% of data. Further evaluated using three classification model.\n",
    "        b.\tFor further evaluation, the dataset present in the test folder is taken and evaluated using three classification model.\n"
   ]
  },
  {
   "cell_type": "code",
   "execution_count": 36,
   "metadata": {},
   "outputs": [],
   "source": [
    "from sklearn.model_selection import train_test_split"
   ]
  },
  {
   "cell_type": "code",
   "execution_count": 37,
   "metadata": {},
   "outputs": [],
   "source": [
    "X = df['sent']\n",
    "y = df['label']"
   ]
  },
  {
   "cell_type": "code",
   "execution_count": 38,
   "metadata": {},
   "outputs": [
    {
     "name": "stdout",
     "output_type": "stream",
     "text": [
      "(20000,)\n",
      "(20000,)\n"
     ]
    }
   ],
   "source": [
    "print(X.shape)\n",
    "print(y.shape)"
   ]
  },
  {
   "cell_type": "code",
   "execution_count": 39,
   "metadata": {},
   "outputs": [],
   "source": [
    "X = df['sent']\n",
    "y = df['label']\n",
    "X_train, X_test, y_train, y_test = train_test_split(X, y, test_size=0.3, random_state=42)"
   ]
  },
  {
   "cell_type": "markdown",
   "metadata": {},
   "source": [
    "## 4. Model Selection"
   ]
  },
  {
   "cell_type": "markdown",
   "metadata": {},
   "source": [
    "    4.\tFeature Extraction\n",
    "\n",
    "        •\tMachine Algorithms cannot take text data; instead, we need to perform feature extraction from text data for passing the text into a machine learning algorithm.   \n",
    "\n",
    "        a.\tCount Vectorization: It converts the raw text into DTM (Document term matrix) in this; each word occurrence counted.\n",
    "        b.\tTFIDF-Transformation: It transforms the count of count vectorization into frequency. Instead of 4.a and 4.b, we can use TFIDF-Vectorization for similar operations with one function.\n",
    "        c.\tTFIDF-Vectorization: It is just inverse of count vectorization; instead of filling DTM(Document term matrix) with word count, it calculates the inverse document frequency value for each word. Inverse document frequency is measured common or rare in a given corpus.\n",
    "\n",
    "    5.\tApply 3 Classification Model. \n",
    "        a.\tNaive Bayes Classifier\n",
    "            i.\tNaive Bayes is a classification algorithm based on the principle of Bayes' Theorem.\n",
    "            •\tworks with any numbers of class\n",
    "            •\tSimple to implement\n",
    "            \n",
    "        b.\tK-nearest Neighbour\n",
    "            i.\tIt is a classification algorithm that operates on basic principal.\n",
    "            •\tSimple to implement\n",
    "            •\tworks with any numbers of class\n",
    "            •\teasy to add more data\n",
    "\n",
    "        c.\tSupport Vector Machine (SVM)\n",
    "            i.\tIt analysed data and recognizer patterns through classification or regression techniques.\n",
    "            •\tSVM can handle non-linear data using the bit trick.\n",
    "            •\tSVM can be used to solve both classification and regression problems.\n"
   ]
  },
  {
   "cell_type": "code",
   "execution_count": 42,
   "metadata": {},
   "outputs": [],
   "source": [
    "from sklearn.pipeline import Pipeline\n",
    "from sklearn.feature_extraction.text import TfidfVectorizer\n",
    "from sklearn.svm import SVC\n",
    "from sklearn.naive_bayes import MultinomialNB\n",
    "from sklearn.neighbors import KNeighborsClassifier\n",
    "\n",
    "from sklearn.metrics import classification_report,confusion_matrix,accuracy_score"
   ]
  },
  {
   "cell_type": "code",
   "execution_count": 43,
   "metadata": {},
   "outputs": [
    {
     "name": "stdout",
     "output_type": "stream",
     "text": [
      "              precision    recall  f1-score   support\n",
      "\n",
      "           0       0.49      0.50      0.50      2954\n",
      "           1       0.51      0.50      0.50      3046\n",
      "\n",
      "    accuracy                           0.50      6000\n",
      "   macro avg       0.50      0.50      0.50      6000\n",
      "weighted avg       0.50      0.50      0.50      6000\n",
      "\n",
      "Confusion Matrix = \n",
      " [[1479 1475]\n",
      " [1528 1518]]\n",
      "accuracy =  0.4995\n"
     ]
    }
   ],
   "source": [
    "# 4.1 Naive Bayes Classifier\n",
    "text_nb = Pipeline([('tfidf',TfidfVectorizer(max_features=1000,analyzer='word',ngram_range=(1,2))),\n",
    "                   ('clf',MultinomialNB())])\n",
    "\n",
    "text_nb.fit(X_train,y_train)\n",
    "\n",
    "prediction = text_nb.predict(X_test)\n",
    "\n",
    "print(classification_report(y_test,prediction))\n",
    "\n",
    "print(\"Confusion Matrix = \\n\",confusion_matrix(y_test,prediction))\n",
    "\n",
    "print(\"accuracy = \",accuracy_score(y_test,prediction))"
   ]
  },
  {
   "cell_type": "code",
   "execution_count": null,
   "metadata": {},
   "outputs": [],
   "source": []
  },
  {
   "cell_type": "code",
   "execution_count": 44,
   "metadata": {},
   "outputs": [
    {
     "name": "stdout",
     "output_type": "stream",
     "text": [
      "              precision    recall  f1-score   support\n",
      "\n",
      "           0       0.50      0.23      0.31      2954\n",
      "           1       0.51      0.78      0.62      3046\n",
      "\n",
      "    accuracy                           0.51      6000\n",
      "   macro avg       0.51      0.50      0.47      6000\n",
      "weighted avg       0.51      0.51      0.47      6000\n",
      "\n",
      "Confusion Matrix = \n",
      " [[ 673 2281]\n",
      " [ 664 2382]]\n",
      "accuracy =  0.5091666666666667\n"
     ]
    }
   ],
   "source": [
    "# 4.2 K-nearest Neighbor\n",
    "text_knn = Pipeline([('tfidf',TfidfVectorizer(max_features=1000,analyzer='word',ngram_range=(1,3))),\n",
    "                   ('clf',KNeighborsClassifier(n_neighbors=101))])\n",
    "\n",
    "text_knn.fit(X_train,y_train)\n",
    "\n",
    "prediction = text_knn.predict(X_test)\n",
    "\n",
    "print(classification_report(y_test,prediction))\n",
    "\n",
    "print(\"Confusion Matrix = \\n\",confusion_matrix(y_test,prediction))\n",
    "\n",
    "print(\"accuracy = \",accuracy_score(y_test,prediction))"
   ]
  },
  {
   "cell_type": "code",
   "execution_count": null,
   "metadata": {},
   "outputs": [],
   "source": []
  },
  {
   "cell_type": "code",
   "execution_count": 47,
   "metadata": {},
   "outputs": [
    {
     "name": "stdout",
     "output_type": "stream",
     "text": [
      "              precision    recall  f1-score   support\n",
      "\n",
      "           0       0.49      1.00      0.66      2954\n",
      "           1       0.00      0.00      0.00      3046\n",
      "\n",
      "    accuracy                           0.49      6000\n",
      "   macro avg       0.25      0.50      0.33      6000\n",
      "weighted avg       0.24      0.49      0.32      6000\n",
      "\n",
      "Confusion Matrix = \n",
      " [[2954    0]\n",
      " [3046    0]]\n",
      "accuracy =  0.49233333333333335\n"
     ]
    }
   ],
   "source": [
    "# 4.3 Support Vector Machine (SVM)\n",
    "text_cf = Pipeline([('tfidf',TfidfVectorizer(max_features=1000,analyzer='word',ngram_range=(1,3))),\n",
    "                   ('clf',SVC(gamma='auto'))])\n",
    "\n",
    "text_cf.fit(X_train,y_train)\n",
    "\n",
    "prediction = text_cf.predict(X_test)\n",
    "\n",
    "print(classification_report(y_test,prediction))\n",
    "\n",
    "print(\"Confusion Matrix = \\n\",confusion_matrix(y_test,prediction))\n",
    "\n",
    "print(\"accuracy = \",accuracy_score(y_test,prediction))"
   ]
  },
  {
   "cell_type": "markdown",
   "metadata": {},
   "source": [
    "# END PART 1"
   ]
  },
  {
   "cell_type": "markdown",
   "metadata": {},
   "source": [
    "# EVALUATIONS"
   ]
  },
  {
   "cell_type": "code",
   "execution_count": null,
   "metadata": {},
   "outputs": [],
   "source": [
    "# further the EVALUATIONS is done using trial dataset from github."
   ]
  },
  {
   "cell_type": "code",
   "execution_count": 48,
   "metadata": {},
   "outputs": [],
   "source": [
    "df_test_all = pd.read_csv('./TrialData/taskA_trial_data.csv')"
   ]
  },
  {
   "cell_type": "code",
   "execution_count": 49,
   "metadata": {},
   "outputs": [],
   "source": [
    "df_test_lables = pd.read_csv('./TrialData/taskA_trial_answer.csv',header='infer',names=['id_lbl','sen0_lbl'])\n",
    "df_test_join = pd.concat([df_test_all,df_test_lables],axis=1)\n",
    "df_test_join.drop(['id_lbl'],axis=1,inplace=True)\n",
    "df_test_join['sen1_lbl'] =  df_test_join['sen0_lbl'].apply(lambda x: int(1) if x==0 else int(0))\n",
    "df1_test = df_test_join[['sent0','sen0_lbl']]\n",
    "df1_test = df1_test.rename(columns = {\"sent0\": \"sent\", \n",
    "                                  \"sen0_lbl\":\"label\"})\n",
    "\n",
    "df2_test = df_test_join[['sent1','sen1_lbl']]\n",
    "\n",
    "df2_test = df2_test.rename(columns = {\"sent1\": \"sent\", \n",
    "                                  \"sen1_lbl\":\"label\"})\n",
    "\n",
    "\n",
    "df_test = pd.concat([df1_test, df2_test], ignore_index=True,axis=0,sort=True)"
   ]
  },
  {
   "cell_type": "code",
   "execution_count": 50,
   "metadata": {},
   "outputs": [],
   "source": [
    "df_test['sent'] = df_test['sent'].apply(lambda x: \" \".join(x.lower() for x in x.split()))\n",
    "df_test['sent'] = df_test['sent'].str.replace('[^\\w\\s]',' ')\n",
    "df_test['sent'] = df_test['sent'].apply(lambda x: \" \".join(x for x in x.split() if x not in stop))\n",
    "df_test['sent'] = df_test['sent'].apply(lambda x: \" \".join([Word(word).lemmatize() for word in x.split()]))\n",
    "\n",
    "def de_repeat(text):\n",
    "    pattern = re.compile(r\"(.)\\1{2,}\")\n",
    "    return pattern.sub(r\"\\1\\1\",text)\n",
    "\n",
    "\n",
    "df_test['sent'] = df_test['sent'].apply(lambda x: \" \".join(de_repeat(x) for x in x.split())) "
   ]
  },
  {
   "cell_type": "code",
   "execution_count": 51,
   "metadata": {},
   "outputs": [],
   "source": [
    "X_train = df['sent']\n",
    "y_train = df['label']\n",
    "X_test = df_test['sent']\n",
    "y_test = df_test['label']"
   ]
  },
  {
   "cell_type": "code",
   "execution_count": 52,
   "metadata": {},
   "outputs": [
    {
     "name": "stdout",
     "output_type": "stream",
     "text": [
      "              precision    recall  f1-score   support\n",
      "\n",
      "           0       0.55      0.49      0.52      2021\n",
      "           1       0.54      0.60      0.57      2021\n",
      "\n",
      "    accuracy                           0.54      4042\n",
      "   macro avg       0.54      0.54      0.54      4042\n",
      "weighted avg       0.54      0.54      0.54      4042\n",
      "\n",
      "Confusion Matrix = \n",
      " [[ 981 1040]\n",
      " [ 803 1218]]\n",
      "accuracy =  0.5440376051459673\n"
     ]
    }
   ],
   "source": [
    "# 4.1 Naive Bayes Classifier\n",
    "text_nb = Pipeline([('tfidf',TfidfVectorizer(max_features=1000,analyzer='word',ngram_range=(1,2))),\n",
    "                   ('clf',MultinomialNB())])\n",
    "\n",
    "text_nb.fit(X_train,y_train)\n",
    "\n",
    "prediction = text_nb.predict(X_test)\n",
    "\n",
    "print(classification_report(y_test,prediction))\n",
    "\n",
    "print(\"Confusion Matrix = \\n\",confusion_matrix(y_test,prediction))\n",
    "\n",
    "print(\"accuracy = \",accuracy_score(y_test,prediction))"
   ]
  },
  {
   "cell_type": "code",
   "execution_count": 53,
   "metadata": {},
   "outputs": [
    {
     "name": "stdout",
     "output_type": "stream",
     "text": [
      "              precision    recall  f1-score   support\n",
      "\n",
      "           0       0.53      0.10      0.17      2021\n",
      "           1       0.50      0.91      0.65      2021\n",
      "\n",
      "    accuracy                           0.51      4042\n",
      "   macro avg       0.52      0.51      0.41      4042\n",
      "weighted avg       0.52      0.51      0.41      4042\n",
      "\n",
      "Confusion Matrix = \n",
      " [[ 211 1810]\n",
      " [ 188 1833]]\n",
      "accuracy =  0.5056902523503216\n"
     ]
    }
   ],
   "source": [
    "# 4.2 K-nearest Neighbor\n",
    "text_knn = Pipeline([('tfidf',TfidfVectorizer(max_features=1000,analyzer='word',ngram_range=(1,3))),\n",
    "                   ('clf',KNeighborsClassifier(n_neighbors=101))])\n",
    "\n",
    "text_knn.fit(X_train,y_train)\n",
    "\n",
    "prediction = text_knn.predict(X_test)\n",
    "\n",
    "print(classification_report(y_test,prediction))\n",
    "\n",
    "print(\"Confusion Matrix = \\n\",confusion_matrix(y_test,prediction))\n",
    "\n",
    "print(\"accuracy = \",accuracy_score(y_test,prediction))"
   ]
  },
  {
   "cell_type": "code",
   "execution_count": 54,
   "metadata": {},
   "outputs": [
    {
     "name": "stdout",
     "output_type": "stream",
     "text": [
      "              precision    recall  f1-score   support\n",
      "\n",
      "           0       0.65      0.02      0.03      2021\n",
      "           1       0.50      0.99      0.67      2021\n",
      "\n",
      "    accuracy                           0.50      4042\n",
      "   macro avg       0.58      0.50      0.35      4042\n",
      "weighted avg       0.58      0.50      0.35      4042\n",
      "\n",
      "Confusion Matrix = \n",
      " [[  32 1989]\n",
      " [  17 2004]]\n",
      "accuracy =  0.5037110341415141\n"
     ]
    }
   ],
   "source": [
    "# 4.3 Support Vector Machine (SVM)\n",
    "text_cf = Pipeline([('tfidf',TfidfVectorizer(max_features=1000,analyzer='word',ngram_range=(1,3))),\n",
    "                   ('clf',SVC(gamma='auto'))])\n",
    "\n",
    "text_cf.fit(X_train,y_train)\n",
    "\n",
    "prediction = text_cf.predict(X_test)\n",
    "\n",
    "print(classification_report(y_test,prediction))\n",
    "\n",
    "print(\"Confusion Matrix = \\n\",confusion_matrix(y_test,prediction))\n",
    "\n",
    "print(\"accuracy = \",accuracy_score(y_test,prediction))"
   ]
  },
  {
   "cell_type": "markdown",
   "metadata": {},
   "source": [
    "# THE END OF EVALUATION"
   ]
  }
 ],
 "metadata": {
  "kernelspec": {
   "display_name": "Python 3",
   "language": "python",
   "name": "python3"
  },
  "language_info": {
   "codemirror_mode": {
    "name": "ipython",
    "version": 3
   },
   "file_extension": ".py",
   "mimetype": "text/x-python",
   "name": "python",
   "nbconvert_exporter": "python",
   "pygments_lexer": "ipython3",
   "version": "3.7.3"
  }
 },
 "nbformat": 4,
 "nbformat_minor": 2
}
